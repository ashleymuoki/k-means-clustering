{
 "cells": [
  {
   "cell_type": "code",
   "execution_count": null,
   "id": "af83cee1",
   "metadata": {},
   "outputs": [],
   "source": [
    "%matplotlib inline\n",
    "from copy import deepcopy\n",
    "import numpy as np\n",
    "import pandas as pd\n",
    "import seaborn as sns \n",
    "sns.set()#for plot styling\n",
    "from matplotlib import  pyplot as plt\n",
    "plt.rcParams['figure.figsize'] = (16,9)\n",
    "plt.style.use('ggplot')\n",
    "#importing the dataset\n",
    "data = pd.read_csv('movie_metadata1.csv')\n",
    "print(data.shape)\n",
    "print(data.head)\n"
   ]
  },
  {
   "cell_type": "code",
   "execution_count": null,
   "id": "e858f043",
   "metadata": {},
   "outputs": [],
   "source": [
    "data['director_facebook_likes']"
   ]
  },
  {
   "cell_type": "code",
   "execution_count": null,
   "id": "53397318",
   "metadata": {},
   "outputs": [],
   "source": [
    "data.columns"
   ]
  },
  {
   "cell_type": "code",
   "execution_count": null,
   "id": "b51620a9",
   "metadata": {},
   "outputs": [],
   "source": [
    "newdata = data.iloc[:,4:6]\n",
    "newdata"
   ]
  },
  {
   "cell_type": "code",
   "execution_count": null,
   "id": "3bb50783",
   "metadata": {},
   "outputs": [],
   "source": [
    "from sklearn.cluster import KMeans"
   ]
  },
  {
   "cell_type": "code",
   "execution_count": null,
   "id": "a655f447",
   "metadata": {},
   "outputs": [],
   "source": [
    "kmeans = KMeans(n_clusters = 5)\n"
   ]
  },
  {
   "cell_type": "code",
   "execution_count": null,
   "id": "572a5184",
   "metadata": {},
   "outputs": [],
   "source": [
    "kmeans.fit(newdata)"
   ]
  },
  {
   "cell_type": "code",
   "execution_count": null,
   "id": "ffd05262",
   "metadata": {},
   "outputs": [],
   "source": [
    "kmeans.cluster_centers_\n",
    "print(len(kmeans.cluster_centers_))"
   ]
  },
  {
   "cell_type": "code",
   "execution_count": null,
   "id": "1c6dd6ea",
   "metadata": {},
   "outputs": [],
   "source": [
    "print(kmeans.labels_)\n",
    "print(len(kmeans.labels_))"
   ]
  },
  {
   "cell_type": "code",
   "execution_count": null,
   "id": "ae02fc17",
   "metadata": {},
   "outputs": [],
   "source": [
    "print(type(kmeans.labels_))\n",
    "unique, counts = np.unique(kmeans.lables_,return_counts= True)\n",
    "print(dict(zip(unique, counts)))"
   ]
  },
  {
   "cell_type": "code",
   "execution_count": null,
   "id": "97cd0be3",
   "metadata": {},
   "outputs": [],
   "source": [
    "#plot the data \n",
    "newdata['cluster']= kmeans.labels_\n",
    "sns.set_style('whitegrid')\n",
    "sns.Implot('director_facebook_likes','actor_3_facebook_likes', data= newdata, hue = 'cluster',\n",
    "          pallete = 'coolwarm', size= 6,aspect = 1, fit_reg= False)"
   ]
  }
 ],
 "metadata": {
  "kernelspec": {
   "display_name": "Python 3 (ipykernel)",
   "language": "python",
   "name": "python3"
  },
  "language_info": {
   "codemirror_mode": {
    "name": "ipython",
    "version": 3
   },
   "file_extension": ".py",
   "mimetype": "text/x-python",
   "name": "python",
   "nbconvert_exporter": "python",
   "pygments_lexer": "ipython3",
   "version": "3.11.4"
  }
 },
 "nbformat": 4,
 "nbformat_minor": 5
}
